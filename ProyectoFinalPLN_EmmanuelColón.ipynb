{
  "nbformat": 4,
  "nbformat_minor": 0,
  "metadata": {
    "colab": {
      "provenance": [],
      "gpuType": "T4",
      "authorship_tag": "ABX9TyMXQ8dV62ECL91YCBhGf0hO",
      "include_colab_link": true
    },
    "kernelspec": {
      "name": "python3",
      "display_name": "Python 3"
    },
    "language_info": {
      "name": "python"
    },
    "accelerator": "GPU"
  },
  "cells": [
    {
      "cell_type": "markdown",
      "metadata": {
        "id": "view-in-github",
        "colab_type": "text"
      },
      "source": [
        "<a href=\"https://colab.research.google.com/github/EmmanuelColonPalacios/Proyecto-ColonRoldan-ComputacionGrafica/blob/main/ProyectoFinalPLN_EmmanuelCol%C3%B3n.ipynb\" target=\"_parent\"><img src=\"https://colab.research.google.com/assets/colab-badge.svg\" alt=\"Open In Colab\"/></a>"
      ]
    },
    {
      "cell_type": "markdown",
      "source": [
        "#**Proyecto Final de PLN - Emmanuel Colón Palacios - FI UNAM - 317254523**\n",
        "\n",
        "Transformando la Detección Retrógrada:\n",
        "Una Exploración de Modelos Transformer BERT para la Clasificación de Texto Sexista\n",
        "\n",
        "Los DATASETS están incluídos en el .zip, junto con el notebook, el PDF realizado con la plantilla en LateX desde Overleaf.\n",
        "\n",
        "#**IMPORTANTE**:\n",
        "Se recomienda ejecutar por orden jerárquico* de arriba hacia abajo * los bloques de código, debido a que se dejó un modelo BERT que no se terminaba de ejecutar para mostrar la experimentación con modelos que se tuvo en este notebook."
      ],
      "metadata": {
        "id": "preCUDcUHiw7"
      }
    },
    {
      "cell_type": "code",
      "source": [
        "!pip install nltk\n",
        "!pip install transformers\n",
        "!pip install matplotlib seaborn\n",
        "!pip install transformers torch\n",
        "!pip install torch\n",
        "!pip install transformers\n",
        "!pip install scikit-learn"
      ],
      "metadata": {
        "id": "ZR3iQ0jvKweg"
      },
      "execution_count": null,
      "outputs": []
    },
    {
      "cell_type": "code",
      "source": [
        "import nltk #Librería stopwords\n",
        "nltk.download('stopwords')\n",
        "nltk.download('punkt')\n",
        "import pandas as pd\n",
        "from nltk.corpus import stopwords\n",
        "from nltk.tokenize import word_tokenize\n",
        "from sklearn.model_selection import train_test_split\n",
        "from sklearn.feature_extraction.text import CountVectorizer\n",
        "from sklearn.preprocessing import LabelEncoder\n",
        "from sklearn.linear_model import LogisticRegression\n",
        "from sklearn.metrics import accuracy_score, classification_report\n",
        "import re"
      ],
      "metadata": {
        "colab": {
          "base_uri": "https://localhost:8080/"
        },
        "id": "SGIuvSIYKYfE",
        "outputId": "df660030-eeaa-4cd9-f48f-40d2ba466fc7"
      },
      "execution_count": 2,
      "outputs": [
        {
          "output_type": "stream",
          "name": "stderr",
          "text": [
            "[nltk_data] Downloading package stopwords to /root/nltk_data...\n",
            "[nltk_data]   Package stopwords is already up-to-date!\n",
            "[nltk_data] Downloading package punkt to /root/nltk_data...\n",
            "[nltk_data]   Package punkt is already up-to-date!\n"
          ]
        }
      ]
    },
    {
      "cell_type": "code",
      "execution_count": 3,
      "metadata": {
        "colab": {
          "base_uri": "https://localhost:8080/"
        },
        "id": "UW2an-N2HiA6",
        "outputId": "3b62a9cf-eca0-4df5-c1b4-161f79990fd4"
      },
      "outputs": [
        {
          "output_type": "stream",
          "name": "stdout",
          "text": [
            "   phrasing  content  worker    id\n",
            "0         3        2       0  1815\n",
            "1         3        6       1  1815\n",
            "2         3        6       2  1815\n",
            "3         3        6       3  1815\n",
            "4         3        6       4  1815\n",
            "Index(['phrasing', 'content', 'worker', 'id'], dtype='object')\n"
          ]
        }
      ],
      "source": [
        "annotations_df = pd.read_csv('sexism_annotations.csv')\n",
        "print(annotations_df.head())\n",
        "print(annotations_df.columns)\n"
      ]
    },
    {
      "cell_type": "code",
      "source": [
        "data_df = pd.read_csv('sexism_data.csv')\n",
        "print(data_df.head())\n",
        "print(data_df.columns)\n"
      ],
      "metadata": {
        "colab": {
          "base_uri": "https://localhost:8080/"
        },
        "id": "lRN9vlaYIj_l",
        "outputId": "3a4c057d-bb1f-4c68-df54-c00b2d9a80f3"
      },
      "execution_count": 4,
      "outputs": [
        {
          "output_type": "stream",
          "name": "stdout",
          "text": [
            "   id dataset                                               text  toxicity  \\\n",
            "0   0   other  MENTION3481 i didn't even know random was an o...  0.118180   \n",
            "1   1   other                   Bottom two should've gone!  #mkr  0.251850   \n",
            "2   2  callme  MENTION3111 MENTION3424 ladyboner deserves so ...  0.113331   \n",
            "3   3   other  She shall now be known as Sourpuss #MKR #KatAn...  0.531153   \n",
            "4   4   other  Tarah W threw a bunch of women under the bus s...  0.118718   \n",
            "\n",
            "   sexist  of_id  \n",
            "0   False     -1  \n",
            "1   False     -1  \n",
            "2   False     -1  \n",
            "3   False     -1  \n",
            "4   False     -1  \n",
            "Index(['id', 'dataset', 'text', 'toxicity', 'sexist', 'of_id'], dtype='object')\n"
          ]
        }
      ]
    },
    {
      "cell_type": "markdown",
      "source": [
        "#Filtración de columas relevantes"
      ],
      "metadata": {
        "id": "YJdSbqOOKFzO"
      }
    },
    {
      "cell_type": "code",
      "source": [
        "data_df = data_df[['text', 'sexist']]"
      ],
      "metadata": {
        "id": "blsxAajiKEFa"
      },
      "execution_count": 5,
      "outputs": []
    },
    {
      "cell_type": "markdown",
      "source": [
        "Exploración de distribución de etiquetas"
      ],
      "metadata": {
        "id": "AnZZrjnEKIbZ"
      }
    },
    {
      "cell_type": "code",
      "source": [
        "#Distribución de etiquetas\n",
        "print(data_df['sexist'].value_counts())"
      ],
      "metadata": {
        "colab": {
          "base_uri": "https://localhost:8080/"
        },
        "id": "NNbcitUCKKrR",
        "outputId": "700aa92b-695e-4e87-c903-93fffd6f29c1"
      },
      "execution_count": 6,
      "outputs": [
        {
          "output_type": "stream",
          "name": "stdout",
          "text": [
            "False    11822\n",
            "True      1809\n",
            "Name: sexist, dtype: int64\n"
          ]
        }
      ]
    },
    {
      "cell_type": "markdown",
      "source": [
        "Preprocesamiento de Texto - Primer modelo con dataset, preprocesamiento de datos y sin annotaciones."
      ],
      "metadata": {
        "id": "OIBNu9AXKPQb"
      }
    },
    {
      "cell_type": "code",
      "source": [
        "def preprocess_text(text):\n",
        "    # Eliminar caracteres no alfabéticos y convertir a minúsculas\n",
        "    text = re.sub(r'[^a-zA-Z\\s]', '', text).lower()\n",
        "    # Tokenizar y eliminar stopwords\n",
        "    stop_words = set(stopwords.words('english'))\n",
        "    tokens = word_tokenize(text)\n",
        "    tokens = [token for token in tokens if token not in stop_words]\n",
        "    return ' '.join(tokens)\n",
        "\n",
        "# Aplicar preprocesamiento al conjunto de datos\n",
        "data_df['text'] = data_df['text'].apply(preprocess_text)"
      ],
      "metadata": {
        "id": "JUe58t3qKOUh"
      },
      "execution_count": 7,
      "outputs": []
    },
    {
      "cell_type": "code",
      "source": [
        "# Dividir el conjunto de datos en entrenamiento y prueba\n",
        "train_df, test_df = train_test_split(data_df, test_size=0.2, random_state=42, stratify=data_df['sexist'])\n",
        "\n",
        "# Representación numérica de los textos usando Bag of Words (BoW)\n",
        "vectorizer = CountVectorizer()\n",
        "X_train = vectorizer.fit_transform(train_df['text'])\n",
        "X_test = vectorizer.transform(test_df['text'])\n",
        "\n",
        "# Codificación de las etiquetas (sexist y no sexist) a valores numéricos\n",
        "label_encoder = LabelEncoder()\n",
        "y_train = label_encoder.fit_transform(train_df['sexist'])\n",
        "y_test = label_encoder.transform(test_df['sexist'])"
      ],
      "metadata": {
        "id": "kGq6O2VyK1b5"
      },
      "execution_count": 8,
      "outputs": []
    },
    {
      "cell_type": "code",
      "source": [
        "# Inicializar el modelo de regresión logística\n",
        "model = LogisticRegression(random_state=42)\n",
        "\n",
        "# Entrenar el modelo\n",
        "model.fit(X_train, y_train)\n",
        "\n",
        "# Realizar predicciones en el conjunto de prueba\n",
        "predictions = model.predict(X_test)\n",
        "\n",
        "# Evaluar el rendimiento del modelo\n",
        "accuracy = accuracy_score(y_test, predictions)\n",
        "print(f'Accuracy on test set: {accuracy:.2f}')\n",
        "\n",
        "# Mostrar métricas detalladas\n",
        "print(classification_report(y_test, predictions, target_names=['Not Sexist', 'Sexist']))\n"
      ],
      "metadata": {
        "colab": {
          "base_uri": "https://localhost:8080/"
        },
        "id": "Xm97XaaFLA2v",
        "outputId": "de9f6c45-b9bb-4fac-89d0-6f062d344940"
      },
      "execution_count": 9,
      "outputs": [
        {
          "output_type": "stream",
          "name": "stdout",
          "text": [
            "Accuracy on test set: 0.91\n",
            "              precision    recall  f1-score   support\n",
            "\n",
            "  Not Sexist       0.93      0.96      0.95      2365\n",
            "      Sexist       0.69      0.53      0.60       362\n",
            "\n",
            "    accuracy                           0.91      2727\n",
            "   macro avg       0.81      0.75      0.77      2727\n",
            "weighted avg       0.90      0.91      0.90      2727\n",
            "\n"
          ]
        }
      ]
    },
    {
      "cell_type": "markdown",
      "source": [
        "Incorporamos anotaciones adicionales de la dataset - Segundo modelo Preprocesado con la mezcla y adición del dataset de las anotaciones"
      ],
      "metadata": {
        "id": "D8oRDX0ILt50"
      }
    },
    {
      "cell_type": "code",
      "source": [
        "# Cargar el conjunto de datos original\n",
        "original_data_df = pd.read_csv('sexism_data.csv')\n",
        "\n",
        "# Cargar el conjunto de datos de anotaciones\n",
        "annotations_df = pd.read_csv('sexism_annotations.csv')\n",
        "\n",
        "# Conservar solo las columnas relevantes para nuestro modelo\n",
        "annotations_df = annotations_df[['id', 'phrasing', 'content']]\n",
        "\n",
        "# Fusionar los conjuntos de datos de datos y anotaciones usando la columna \"id\"\n",
        "merged_df = pd.merge(original_data_df, annotations_df, on='id', how='inner')\n",
        "\n",
        "# Preprocesamiento de Texto\n",
        "def preprocess_text(text):\n",
        "    text = re.sub(r'[^a-zA-Z\\s]', '', text).lower()\n",
        "    stop_words = set(stopwords.words('english'))\n",
        "    tokens = word_tokenize(text)\n",
        "    tokens = [token for token in tokens if token not in stop_words]\n",
        "    return ' '.join(tokens)\n",
        "\n",
        "merged_df['text'] = merged_df['text'].apply(preprocess_text)\n",
        "\n",
        "# Dividir el conjunto de datos fusionado en entrenamiento y prueba\n",
        "train_df, test_df = train_test_split(merged_df, test_size=0.2, random_state=42, stratify=merged_df['sexist'])\n",
        "\n",
        "# Representación numérica de los textos usando Bag of Words (BoW)\n",
        "vectorizer = CountVectorizer()\n",
        "X_train_text = vectorizer.fit_transform(train_df['text'])\n",
        "X_test_text = vectorizer.transform(test_df['text'])\n",
        "\n",
        "# Convertir las matrices dispersas a DataFrames\n",
        "X_train_text_df = pd.DataFrame(X_train_text.toarray(), columns=vectorizer.get_feature_names_out())\n",
        "X_test_text_df = pd.DataFrame(X_test_text.toarray(), columns=vectorizer.get_feature_names_out())\n",
        "\n",
        "# Agregar las columnas \"phrasing\" y \"content\" como características adicionales\n",
        "X_train = pd.concat([X_train_text_df, train_df[['phrasing', 'content']].reset_index(drop=True)], axis=1)\n",
        "X_test = pd.concat([X_test_text_df, test_df[['phrasing', 'content']].reset_index(drop=True)], axis=1)\n",
        "\n",
        "# Codificación de las etiquetas (sexist y no sexist) a valores numéricos\n",
        "label_encoder = LabelEncoder()\n",
        "y_train = label_encoder.fit_transform(train_df['sexist'])\n",
        "y_test = label_encoder.transform(test_df['sexist'])\n",
        "\n",
        "# Inicializar el modelo de regresión logística\n",
        "model_with_annotations = LogisticRegression(random_state=42)\n",
        "\n",
        "# Entrenar el modelo\n",
        "model_with_annotations.fit(X_train, y_train)\n",
        "\n",
        "# Realizar predicciones en el conjunto de prueba\n",
        "predictions_with_annotations = model_with_annotations.predict(X_test)\n",
        "\n",
        "# Evaluar el rendimiento del modelo\n",
        "accuracy_with_annotations = accuracy_score(y_test, predictions_with_annotations)\n",
        "print(f'Accuracy on test set with annotations: {accuracy_with_annotations:.2f}')\n",
        "\n",
        "# Mostrar métricas detalladas\n",
        "print(classification_report(y_test, predictions_with_annotations, target_names=['Not Sexist', 'Sexist']))\n"
      ],
      "metadata": {
        "colab": {
          "base_uri": "https://localhost:8080/"
        },
        "id": "N6NaeFWvLH9h",
        "outputId": "e95503ed-1c5b-4292-e0c5-d57c815a979e"
      },
      "execution_count": 10,
      "outputs": [
        {
          "output_type": "stream",
          "name": "stderr",
          "text": [
            "/usr/local/lib/python3.10/dist-packages/sklearn/linear_model/_logistic.py:458: ConvergenceWarning: lbfgs failed to converge (status=1):\n",
            "STOP: TOTAL NO. of ITERATIONS REACHED LIMIT.\n",
            "\n",
            "Increase the number of iterations (max_iter) or scale the data as shown in:\n",
            "    https://scikit-learn.org/stable/modules/preprocessing.html\n",
            "Please also refer to the documentation for alternative solver options:\n",
            "    https://scikit-learn.org/stable/modules/linear_model.html#logistic-regression\n",
            "  n_iter_i = _check_optimize_result(\n"
          ]
        },
        {
          "output_type": "stream",
          "name": "stdout",
          "text": [
            "Accuracy on test set with annotations: 0.95\n",
            "              precision    recall  f1-score   support\n",
            "\n",
            "  Not Sexist       0.96      0.97      0.96      3837\n",
            "      Sexist       0.93      0.91      0.92      1809\n",
            "\n",
            "    accuracy                           0.95      5646\n",
            "   macro avg       0.94      0.94      0.94      5646\n",
            "weighted avg       0.95      0.95      0.95      5646\n",
            "\n"
          ]
        }
      ]
    },
    {
      "cell_type": "markdown",
      "source": [
        "#NO EJECUTAR - SOLO EXPERIMENTACIÓN\n",
        "Integración de BERT como característica adicional al modelo existente."
      ],
      "metadata": {
        "id": "TAxCjukGWwNI"
      }
    },
    {
      "cell_type": "code",
      "source": [
        "from transformers import BertTokenizer, BertModel\n",
        "import numpy as np\n",
        "\n",
        "original_data_df = pd.read_csv('sexism_data.csv')\n",
        "\n",
        "annotations_df = pd.read_csv('sexism_annotations.csv')\n",
        "\n",
        "annotations_df = annotations_df[['id', 'phrasing', 'content']]\n",
        "\n",
        "merged_df = pd.merge(original_data_df, annotations_df, on='id', how='inner')\n",
        "\n",
        "def preprocess_text(text):\n",
        "    text = re.sub(r'[^a-zA-Z\\s]', '', text).lower()\n",
        "    stop_words = set(stopwords.words('english'))\n",
        "    tokens = word_tokenize(text)\n",
        "    tokens = [token for token in tokens if token not in stop_words]\n",
        "    return ' '.join(tokens)\n",
        "\n",
        "merged_df['text'] = merged_df['text'].apply(preprocess_text)\n",
        "\n",
        "train_df, test_df = train_test_split(merged_df, test_size=0.2, random_state=42, stratify=merged_df['sexist'])\n",
        "\n",
        "# Tokenizar y obtener representaciones ocultas de BERT\n",
        "tokenizer = BertTokenizer.from_pretrained('bert-base-uncased')\n",
        "model = BertModel.from_pretrained('bert-base-uncased')\n",
        "\n",
        "def get_bert_embeddings(texts):\n",
        "    encoded_texts = tokenizer(texts.tolist(), return_tensors='pt', max_length=512, truncation=True, padding=True)\n",
        "    with torch.no_grad():\n",
        "        output = model(**encoded_texts)\n",
        "    bert_embeddings = output.last_hidden_state.mean(dim=1).numpy()\n",
        "    return bert_embeddings\n",
        "\n",
        "# Obtener representación oculta de BERT para cada texto\n",
        "bert_embeddings_train = get_bert_embeddings(train_df['text'])\n",
        "bert_embeddings_test = get_bert_embeddings(test_df['text'])\n",
        "\n",
        "# Convertir las representaciones ocultas de BERT a DataFrames\n",
        "bert_df_train = pd.DataFrame(bert_embeddings_train)\n",
        "bert_df_test = pd.DataFrame(bert_embeddings_test)\n",
        "\n",
        "# Agregar las representaciones ocultas de BERT como características adicionales\n",
        "X_train = pd.concat([bert_df_train, train_df[['phrasing', 'content']].reset_index(drop=True)], axis=1)\n",
        "X_test = pd.concat([bert_df_test, test_df[['phrasing', 'content']].reset_index(drop=True)], axis=1)\n",
        "\n",
        "# Codificación de las etiquetas (sexist y no sexist) a valores numéricos\n",
        "label_encoder = LabelEncoder()\n",
        "y_train = label_encoder.fit_transform(train_df['sexist'])\n",
        "y_test = label_encoder.transform(test_df['sexist'])\n",
        "\n",
        "# Inicializar el modelo de regresión logística\n",
        "model_with_bert = LogisticRegression(random_state=42)\n",
        "\n",
        "# Entrenar el modelo\n",
        "model_with_bert.fit(X_train, y_train)\n",
        "\n",
        "# Realizar predicciones en el conjunto de prueba\n",
        "predictions_with_bert = model_with_bert.predict(X_test)\n",
        "\n",
        "# Evaluar el rendimiento del modelo\n",
        "accuracy_with_bert = accuracy_score(y_test, predictions_with_bert)\n",
        "print(f'Accuracy on test set with BERT: {accuracy_with_bert:.2f}')\n",
        "\n",
        "# Mostrar métricas detalladas\n",
        "print(classification_report(y_test, predictions_with_bert, target_names=['Not Sexist', 'Sexist']))\n"
      ],
      "metadata": {
        "id": "xtB3xd-EVMEh"
      },
      "execution_count": null,
      "outputs": []
    },
    {
      "cell_type": "markdown",
      "source": [
        "#DESDE AQUÍ YA ES EJECUTABLE - FIN DE EXPERIMENTACIÓN"
      ],
      "metadata": {
        "id": "KJxf4RvjF5j9"
      }
    },
    {
      "cell_type": "markdown",
      "source": [
        "Visualizaciones con matplotlib"
      ],
      "metadata": {
        "id": "MOSZr8_oh6_K"
      }
    },
    {
      "cell_type": "code",
      "source": [
        "import matplotlib.pyplot as plt\n",
        "import seaborn as sns"
      ],
      "metadata": {
        "id": "U98lqqWJiAv3"
      },
      "execution_count": 11,
      "outputs": []
    },
    {
      "cell_type": "markdown",
      "source": [
        "únicamente con data_df"
      ],
      "metadata": {
        "id": "t7EexkKTji5U"
      }
    },
    {
      "cell_type": "code",
      "source": [
        "# Visualizar la distribución de etiquetas en merged_df\n",
        "plt.figure(figsize=(8, 6))\n",
        "sns.countplot(x='sexist', hue='sexist', data=data_df)\n",
        "plt.title('Distribution of Labels')\n",
        "plt.xlabel('Sexist')\n",
        "plt.ylabel('Count')\n",
        "plt.show()\n"
      ],
      "metadata": {
        "colab": {
          "base_uri": "https://localhost:8080/",
          "height": 564
        },
        "id": "6w6pFpROiC5V",
        "outputId": "6015df61-4695-4ab9-ab9e-587e0dfe0e1c"
      },
      "execution_count": 12,
      "outputs": [
        {
          "output_type": "display_data",
          "data": {
            "text/plain": [
              "<Figure size 800x600 with 1 Axes>"
            ],
            "image/png": "[encoded data removed]"
          },
          "metadata": {}
        }
      ]
    },
    {
      "cell_type": "code",
      "source": [
        "from sklearn.metrics import confusion_matrix\n",
        "import seaborn as sns\n",
        "\n",
        "conf_matrix = confusion_matrix(y_test, predictions_with_annotations)\n",
        "\n",
        "plt.figure(figsize=(8, 6))\n",
        "sns.heatmap(conf_matrix, annot=True, fmt='d', cmap='Blues', xticklabels=['Not Sexist', 'Sexist'], yticklabels=['Not Sexist', 'Sexist'])\n",
        "plt.title('Confusion Matrix')\n",
        "plt.xlabel('Predicted')\n",
        "plt.ylabel('True')\n",
        "plt.show()"
      ],
      "metadata": {
        "colab": {
          "base_uri": "https://localhost:8080/",
          "height": 564
        },
        "id": "6zZrd8PBiGwf",
        "outputId": "43b40423-7432-4e78-fcc3-7d34c65045f2"
      },
      "execution_count": 13,
      "outputs": [
        {
          "output_type": "display_data",
          "data": {
            "text/plain": [
              "<Figure size 800x600 with 2 Axes>"
            ],
            "image/png": "[encoded data removed]"
          },
          "metadata": {}
        }
      ]
    },
    {
      "cell_type": "markdown",
      "source": [
        "con merged_df"
      ],
      "metadata": {
        "id": "LRbmKZ-9jkpR"
      }
    },
    {
      "cell_type": "code",
      "source": [
        "plt.figure(figsize=(8, 6))\n",
        "sns.countplot(x='sexist', hue='sexist', data=merged_df)\n",
        "plt.title('Distribution of Labels')\n",
        "plt.xlabel('Sexist')\n",
        "plt.ylabel('Count')\n",
        "plt.show()"
      ],
      "metadata": {
        "colab": {
          "base_uri": "https://localhost:8080/",
          "height": 564
        },
        "id": "zF7jNoJujoTt",
        "outputId": "8e210cfe-80ff-484d-c274-37c884300f6f"
      },
      "execution_count": 14,
      "outputs": [
        {
          "output_type": "display_data",
          "data": {
            "text/plain": [
              "<Figure size 800x600 with 1 Axes>"
            ],
            "image/png": "[encoded data removed]"
          },
          "metadata": {}
        }
      ]
    },
    {
      "cell_type": "code",
      "source": [
        "# Calcular y visualizar la matriz de confusión en el conjunto de prueba\n",
        "conf_matrix = confusion_matrix(y_test, predictions_with_annotations)\n",
        "\n",
        "plt.figure(figsize=(8, 6))\n",
        "sns.heatmap(conf_matrix, annot=True, fmt='d', cmap='Blues', xticklabels=['Not Sexist', 'Sexist'], yticklabels=['Not Sexist', 'Sexist'])\n",
        "plt.title('Confusion Matrix')\n",
        "plt.xlabel('Predicted')\n",
        "plt.ylabel('True')\n",
        "plt.show()"
      ],
      "metadata": {
        "colab": {
          "base_uri": "https://localhost:8080/",
          "height": 564
        },
        "id": "FkF9wUFujoyk",
        "outputId": "3ad8b6c5-92bb-48f1-edfa-f01a157f0479"
      },
      "execution_count": 15,
      "outputs": [
        {
          "output_type": "display_data",
          "data": {
            "text/plain": [
              "<Figure size 800x600 with 2 Axes>"
            ],
            "image/png": "[encoded data removed]"
          },
          "metadata": {}
        }
      ]
    },
    {
      "cell_type": "markdown",
      "source": [
        "*La fusión de datos agregó las anotaciones adicionales a los textos originales, pero si la información de las anotaciones no introduce diferencias significativas en el modelo de regresión logística, se obtienen resultados similares.*"
      ],
      "metadata": {
        "id": "SstYjQw0mG73"
      }
    },
    {
      "cell_type": "markdown",
      "source": [
        "BERT con Hugging Face Pytorch"
      ],
      "metadata": {
        "id": "HoyLmH1yvb0C"
      }
    },
    {
      "cell_type": "code",
      "source": [
        "#pip install accelerate==0.20.1\n",
        "!pip install accelerate -U"
      ],
      "metadata": {
        "id": "PwD1bcuiyp_v"
      },
      "execution_count": null,
      "outputs": []
    },
    {
      "cell_type": "code",
      "source": [
        "import pandas as pd\n",
        "from sklearn.model_selection import train_test_split\n",
        "from sklearn.metrics import accuracy_score, classification_report\n",
        "from transformers import BertTokenizer, BertForSequenceClassification, TrainingArguments, Trainer\n",
        "import torch\n",
        "\n",
        "# Cargar el conjunto de datos original\n",
        "original_data_df = pd.read_csv('sexism_data.csv')\n",
        "\n",
        "# Cargar el conjunto de datos de anotaciones\n",
        "annotations_df = pd.read_csv('sexism_annotations.csv')\n",
        "\n",
        "# Conservar solo las columnas relevantes para nuestro modelo\n",
        "annotations_df = annotations_df[['id', 'phrasing', 'content']]\n",
        "\n",
        "# Fusionar los conjuntos de datos de datos y anotaciones usando la columna \"id\"\n",
        "merged_df = pd.merge(original_data_df, annotations_df, on='id', how='inner')\n",
        "\n",
        "# Resetear índices para evitar problemas con reindexación\n",
        "merged_df.reset_index(drop=True, inplace=True)\n",
        "\n",
        "# Dividir el conjunto de datos fusionado en entrenamiento y prueba\n",
        "train_df, test_df = train_test_split(merged_df, test_size=0.2, random_state=42, stratify=merged_df['sexist'])\n",
        "\n",
        "# Tokenizador BERT\n",
        "tokenizer = BertTokenizer.from_pretrained('bert-base-uncased')\n",
        "\n",
        "# Codificación de textos\n",
        "train_encodings = tokenizer(train_df['text'].tolist(), truncation=True, padding=True)\n",
        "test_encodings = tokenizer(test_df['text'].tolist(), truncation=True, padding=True)\n",
        "\n",
        "# Preparar conjuntos de datos\n",
        "class SexismDataset(torch.utils.data.Dataset):\n",
        "    def __init__(self, encodings, labels):\n",
        "        self.encodings = encodings\n",
        "        self.labels = labels\n",
        "\n",
        "    def __getitem__(self, idx):\n",
        "        item = {key: torch.tensor(val[idx]) for key, val in self.encodings.items()}\n",
        "        item['labels'] = torch.tensor(int(self.labels.iloc[idx]))\n",
        "        return item\n",
        "\n",
        "    def __len__(self):\n",
        "        return len(self.labels)\n",
        "\n",
        "train_dataset = SexismDataset(train_encodings, train_df['sexist'])\n",
        "test_dataset = SexismDataset(test_encodings, test_df['sexist'])\n",
        "\n",
        "# Modelo BERT para clasificación binaria\n",
        "model = BertForSequenceClassification.from_pretrained('bert-base-uncased', num_labels=2)\n",
        "\n",
        "# Parámetros de entrenamiento\n",
        "training_args = TrainingArguments(\n",
        "    output_dir='./results',\n",
        "    num_train_epochs=3,\n",
        "    per_device_train_batch_size=8,\n",
        "    per_device_eval_batch_size=8,\n",
        "    warmup_steps=500,\n",
        "    weight_decay=0.01,\n",
        "    logging_dir='./logs',\n",
        ")\n",
        "\n",
        "# Entrenamiento del modelo con Trainer\n",
        "trainer = Trainer(\n",
        "    model=model,\n",
        "    args=training_args,\n",
        "    train_dataset=train_dataset,\n",
        "    eval_dataset=test_dataset,\n",
        ")\n",
        "\n",
        "trainer.train()\n",
        "\n",
        "# Predicciones en el conjunto de prueba\n",
        "predictions = trainer.predict(test_dataset).predictions.argmax(axis=1)\n",
        "\n",
        "# Evaluar el rendimiento del modelo\n",
        "accuracy_score(test_df['sexist'].values, predictions)\n",
        "\n",
        "print(f'Accuracy on test set with BERT: {accuracy:.2f}')\n",
        "\n",
        "# Mostrar métricas detalladas\n",
        "print(classification_report(test_df['sexist'], predictions, target_names=['Not Sexist', 'Sexist']))\n"
      ],
      "metadata": {
        "colab": {
          "base_uri": "https://localhost:8080/",
          "height": 806
        },
        "id": "g4RxBMm9vlri",
        "outputId": "e3c5d818-54bd-40d0-f6fe-04c088bf9894"
      },
      "execution_count": 33,
      "outputs": [
        {
          "output_type": "stream",
          "name": "stderr",
          "text": [
            "Some weights of BertForSequenceClassification were not initialized from the model checkpoint at bert-base-uncased and are newly initialized: ['classifier.weight', 'classifier.bias']\n",
            "You should probably TRAIN this model on a down-stream task to be able to use it for predictions and inference.\n"
          ]
        },
        {
          "output_type": "display_data",
          "data": {
            "text/plain": [
              "<IPython.core.display.HTML object>"
            ],
            "text/html": [
              "\n",
              "    <div>\n",
              "      \n",
              "      <progress value='8469' max='8469' style='width:300px; height:20px; vertical-align: middle;'></progress>\n",
              "      [8469/8469 26:08, Epoch 3/3]\n",
              "    </div>\n",
              "    <table border=\"1\" class=\"dataframe\">\n",
              "  <thead>\n",
              " <tr style=\"text-align: left;\">\n",
              "      <th>Step</th>\n",
              "      <th>Training Loss</th>\n",
              "    </tr>\n",
              "  </thead>\n",
              "  <tbody>\n",
              "    <tr>\n",
              "      <td>500</td>\n",
              "      <td>0.486400</td>\n",
              "    </tr>\n",
              "    <tr>\n",
              "      <td>1000</td>\n",
              "      <td>0.365100</td>\n",
              "    </tr>\n",
              "    <tr>\n",
              "      <td>1500</td>\n",
              "      <td>0.312100</td>\n",
              "    </tr>\n",
              "    <tr>\n",
              "      <td>2000</td>\n",
              "      <td>0.265300</td>\n",
              "    </tr>\n",
              "    <tr>\n",
              "      <td>2500</td>\n",
              "      <td>0.208100</td>\n",
              "    </tr>\n",
              "    <tr>\n",
              "      <td>3000</td>\n",
              "      <td>0.174500</td>\n",
              "    </tr>\n",
              "    <tr>\n",
              "      <td>3500</td>\n",
              "      <td>0.126500</td>\n",
              "    </tr>\n",
              "    <tr>\n",
              "      <td>4000</td>\n",
              "      <td>0.100000</td>\n",
              "    </tr>\n",
              "    <tr>\n",
              "      <td>4500</td>\n",
              "      <td>0.067700</td>\n",
              "    </tr>\n",
              "    <tr>\n",
              "      <td>5000</td>\n",
              "      <td>0.070200</td>\n",
              "    </tr>\n",
              "    <tr>\n",
              "      <td>5500</td>\n",
              "      <td>0.053800</td>\n",
              "    </tr>\n",
              "    <tr>\n",
              "      <td>6000</td>\n",
              "      <td>0.045100</td>\n",
              "    </tr>\n",
              "    <tr>\n",
              "      <td>6500</td>\n",
              "      <td>0.030100</td>\n",
              "    </tr>\n",
              "    <tr>\n",
              "      <td>7000</td>\n",
              "      <td>0.018400</td>\n",
              "    </tr>\n",
              "    <tr>\n",
              "      <td>7500</td>\n",
              "      <td>0.017300</td>\n",
              "    </tr>\n",
              "    <tr>\n",
              "      <td>8000</td>\n",
              "      <td>0.016500</td>\n",
              "    </tr>\n",
              "  </tbody>\n",
              "</table><p>"
            ]
          },
          "metadata": {}
        },
        {
          "output_type": "display_data",
          "data": {
            "text/plain": [
              "<IPython.core.display.HTML object>"
            ],
            "text/html": []
          },
          "metadata": {}
        },
        {
          "output_type": "stream",
          "name": "stdout",
          "text": [
            "Accuracy on test set with BERT: 0.91\n",
            "              precision    recall  f1-score   support\n",
            "\n",
            "  Not Sexist       1.00      1.00      1.00      3837\n",
            "      Sexist       0.99      1.00      1.00      1809\n",
            "\n",
            "    accuracy                           1.00      5646\n",
            "   macro avg       1.00      1.00      1.00      5646\n",
            "weighted avg       1.00      1.00      1.00      5646\n",
            "\n"
          ]
        }
      ]
    },
    {
      "cell_type": "code",
      "source": [
        "from sklearn.metrics import confusion_matrix\n",
        "import seaborn as sns\n",
        "import matplotlib.pyplot as plt\n",
        "\n",
        "conf_matrix = confusion_matrix(test_df['sexist'], predictions)\n",
        "plt.figure(figsize=(8, 6))\n",
        "sns.heatmap(conf_matrix, annot=True, fmt='d', cmap='Blues', xticklabels=['Not Sexist', 'Sexist'], yticklabels=['Not Sexist', 'Sexist'])\n",
        "plt.title('Confusion Matrix')\n",
        "plt.xlabel('Predicted')\n",
        "plt.ylabel('True')\n",
        "plt.show()\n"
      ],
      "metadata": {
        "colab": {
          "base_uri": "https://localhost:8080/",
          "height": 564
        },
        "id": "dDNyu641D8V2",
        "outputId": "b6b1c7b7-249d-4c2d-efac-38008ae5d982"
      },
      "execution_count": 35,
      "outputs": [
        {
          "output_type": "display_data",
          "data": {
            "text/plain": [
              "<Figure size 800x600 with 2 Axes>"
            ],
            "image/png": "[encoded data removed]"
          },
          "metadata": {}
        }
      ]
    },
    {
      "cell_type": "code",
      "source": [
        "from sklearn.metrics import classification_report\n",
        "\n",
        "print(classification_report(test_df['sexist'], predictions, target_names=['Not Sexist', 'Sexist']))\n"
      ],
      "metadata": {
        "colab": {
          "base_uri": "https://localhost:8080/"
        },
        "id": "pm17zPbUECpk",
        "outputId": "ac83fd04-db18-4e1f-f513-dc1064be49bf"
      },
      "execution_count": 36,
      "outputs": [
        {
          "output_type": "stream",
          "name": "stdout",
          "text": [
            "              precision    recall  f1-score   support\n",
            "\n",
            "  Not Sexist       1.00      1.00      1.00      3837\n",
            "      Sexist       0.99      1.00      1.00      1809\n",
            "\n",
            "    accuracy                           1.00      5646\n",
            "   macro avg       1.00      1.00      1.00      5646\n",
            "weighted avg       1.00      1.00      1.00      5646\n",
            "\n"
          ]
        }
      ]
    },
    {
      "cell_type": "code",
      "source": [
        "from sklearn.metrics import roc_curve, roc_auc_score\n",
        "import matplotlib.pyplot as plt\n",
        "\n",
        "probs = trainer.predict(test_dataset).predictions[:, 1]\n",
        "fpr, tpr, thresholds = roc_curve(test_df['sexist'], probs)\n",
        "\n",
        "plt.figure(figsize=(8, 6))\n",
        "plt.plot(fpr, tpr, label=f'AUC = {roc_auc_score(test_df[\"sexist\"], probs):.2f}')\n",
        "plt.plot([0, 1], [0, 1], linestyle='--', color='gray')\n",
        "plt.title('ROC Curve')\n",
        "plt.xlabel('False Positive Rate')\n",
        "plt.ylabel('True Positive Rate')\n",
        "plt.legend()\n",
        "plt.show()\n"
      ],
      "metadata": {
        "colab": {
          "base_uri": "https://localhost:8080/",
          "height": 564
        },
        "id": "B5wresGdEGKh",
        "outputId": "3e6e893b-17fc-4509-8389-3eba3c2a68f2"
      },
      "execution_count": 38,
      "outputs": [
        {
          "output_type": "display_data",
          "data": {
            "text/plain": [
              "<IPython.core.display.HTML object>"
            ],
            "text/html": []
          },
          "metadata": {}
        },
        {
          "output_type": "display_data",
          "data": {
            "text/plain": [
              "<Figure size 800x600 with 1 Axes>"
            ],
            "image/png": "[encoded data removed]"
          },
          "metadata": {}
        }
      ]
    },
    {
      "cell_type": "markdown",
      "source": [
        "#**PRUEBA CON DATASET GENERADO PARA CLASIFICARSE Y PROBAR EL ÚLTIMO MODELO CON BERT HUGGINGFACE PYTORCH**"
      ],
      "metadata": {
        "id": "hESVzHvbPsIE"
      }
    },
    {
      "cell_type": "code",
      "source": [
        "from torch.utils.data import DataLoader\n",
        "\n",
        "# Suponiendo que ya has definido tu train_dataset y test_dataset\n",
        "train_dataloader = DataLoader(train_dataset, batch_size=8, shuffle=True)\n",
        "test_dataloader = DataLoader(test_dataset, batch_size=8, shuffle=False)\n",
        "\n",
        "# Verificar dimensiones antes de entrenar\n",
        "for batch in train_dataloader:\n",
        "    inputs = batch['input_ids']\n",
        "    labels = batch['labels']\n",
        "    print(inputs.shape, labels.shape)"
      ],
      "metadata": {
        "id": "wmPMcjHt3gdW"
      },
      "execution_count": null,
      "outputs": []
    },
    {
      "cell_type": "code",
      "source": [
        "import pandas as pd\n",
        "\n",
        "# Ejemplo de DataFrame con frases sexistas y no sexistas\n",
        "custom_data = {\n",
        "    'text': [\n",
        "        \"This sentence is clearly sexist.\",\n",
        "        \"I love gender equality.\",\n",
        "        \"I don't agree with this person's opinions.\",\n",
        "        \"Women are amazing in any field.\",\n",
        "        \"This situation makes me feel uncomfortable.\",\n",
        "        \"Women are not suitable for jobs in technology.\",\n",
        "        \"Men are always better leaders than women.\",\n",
        "        \"Men are physically stronger, therefore, they are superior.\",\n",
        "        \"Sexism has no place in our society.\",\n",
        "        \"I believe in equal opportunities for everyone.\",\n",
        "        \"Some people still hold outdated views about gender roles.\",\n",
        "        \"We should promote diversity and inclusion in the workplace.\",\n",
        "        \"Stereotyping based on gender is harmful and unfair.\",\n",
        "        \"I support initiatives that empower women in STEM fields.\",\n",
        "        \"Everyone deserves respect and dignity, regardless of gender.\",\n",
        "        \"Gender discrimination is a serious issue that needs to be addressed.\",\n",
        "        \"Let's challenge traditional gender norms and stereotypes.\",\n",
        "        \"I advocate for a world where everyone is treated with fairness and equality.\",\n",
        "        \"It's important to create a culture of respect and understanding.\",\n",
        "        \"Gender-based violence is unacceptable and should never be tolerated.\"\n",
        "    ]\n",
        "}\n",
        "\n",
        "\n",
        "\n",
        "custom_df = pd.DataFrame(custom_data)\n"
      ],
      "metadata": {
        "id": "m5HPMaB8Hec2"
      },
      "execution_count": 59,
      "outputs": []
    },
    {
      "cell_type": "code",
      "source": [
        "from transformers import BertTokenizer\n",
        "\n",
        "tokenizer = BertTokenizer.from_pretrained('bert-base-uncased')\n",
        "\n",
        "custom_encodings = tokenizer(custom_df['text'].tolist(), truncation=True, padding=True)\n"
      ],
      "metadata": {
        "id": "QG2yAGuIKu7S"
      },
      "execution_count": 60,
      "outputs": []
    },
    {
      "cell_type": "code",
      "source": [
        "class CustomDataset(torch.utils.data.Dataset):\n",
        "    def __init__(self, encodings):\n",
        "        self.encodings = encodings\n",
        "\n",
        "    def __getitem__(self, idx):\n",
        "        item = {key: torch.tensor(val[idx]) for key, val in self.encodings.items()}\n",
        "        return item\n",
        "\n",
        "    def __len__(self):\n",
        "        return len(self.encodings['input_ids'])\n",
        "\n",
        "custom_dataset = CustomDataset(custom_encodings)\n"
      ],
      "metadata": {
        "id": "G8-s-z_CK_ZW"
      },
      "execution_count": 61,
      "outputs": []
    },
    {
      "cell_type": "code",
      "source": [
        "# Predicciones en el conjunto personalizado\n",
        "custom_predictions = trainer.predict(custom_dataset).predictions.argmax(axis=1)\n"
      ],
      "metadata": {
        "colab": {
          "base_uri": "https://localhost:8080/",
          "height": 17
        },
        "id": "mqoFDxBtLCBV",
        "outputId": "a61efa0e-019b-41a1-dd8c-db55914c551e"
      },
      "execution_count": 62,
      "outputs": [
        {
          "output_type": "display_data",
          "data": {
            "text/plain": [
              "<IPython.core.display.HTML object>"
            ],
            "text/html": []
          },
          "metadata": {}
        }
      ]
    },
    {
      "cell_type": "markdown",
      "source": [
        "Resultados de la clasificación:"
      ],
      "metadata": {
        "id": "kmK9gRR0P1aa"
      }
    },
    {
      "cell_type": "code",
      "source": [
        "print(\"Predicciones:\")\n",
        "for text, prediction in zip(custom_df['text'], custom_predictions):\n",
        "    print(f\"Texto: {text}\\nPredicción: {'Sexista' if prediction == 1 else 'No sexista'}\\n\")\n"
      ],
      "metadata": {
        "colab": {
          "base_uri": "https://localhost:8080/"
        },
        "id": "hb3RDrKzLC0x",
        "outputId": "66054f56-9923-4d70-dd79-9750d1ffbe17"
      },
      "execution_count": 63,
      "outputs": [
        {
          "output_type": "stream",
          "name": "stdout",
          "text": [
            "Predicciones:\n",
            "Texto: This sentence is clearly sexist.\n",
            "Predicción: No sexista\n",
            "\n",
            "Texto: I love gender equality.\n",
            "Predicción: No sexista\n",
            "\n",
            "Texto: I don't agree with this person's opinions.\n",
            "Predicción: No sexista\n",
            "\n",
            "Texto: Women are amazing in any field.\n",
            "Predicción: No sexista\n",
            "\n",
            "Texto: This situation makes me feel uncomfortable.\n",
            "Predicción: No sexista\n",
            "\n",
            "Texto: Women are not suitable for jobs in technology.\n",
            "Predicción: Sexista\n",
            "\n",
            "Texto: Men are always better leaders than women.\n",
            "Predicción: Sexista\n",
            "\n",
            "Texto: Men are physically stronger, therefore, they are superior.\n",
            "Predicción: Sexista\n",
            "\n",
            "Texto: Sexism has no place in our society.\n",
            "Predicción: No sexista\n",
            "\n",
            "Texto: I believe in equal opportunities for everyone.\n",
            "Predicción: No sexista\n",
            "\n",
            "Texto: Some people still hold outdated views about gender roles.\n",
            "Predicción: No sexista\n",
            "\n",
            "Texto: We should promote diversity and inclusion in the workplace.\n",
            "Predicción: No sexista\n",
            "\n",
            "Texto: Stereotyping based on gender is harmful and unfair.\n",
            "Predicción: No sexista\n",
            "\n",
            "Texto: I support initiatives that empower women in STEM fields.\n",
            "Predicción: No sexista\n",
            "\n",
            "Texto: Everyone deserves respect and dignity, regardless of gender.\n",
            "Predicción: No sexista\n",
            "\n",
            "Texto: Gender discrimination is a serious issue that needs to be addressed.\n",
            "Predicción: Sexista\n",
            "\n",
            "Texto: Let's challenge traditional gender norms and stereotypes.\n",
            "Predicción: No sexista\n",
            "\n",
            "Texto: I advocate for a world where everyone is treated with fairness and equality.\n",
            "Predicción: No sexista\n",
            "\n",
            "Texto: It's important to create a culture of respect and understanding.\n",
            "Predicción: No sexista\n",
            "\n",
            "Texto: Gender-based violence is unacceptable and should never be tolerated.\n",
            "Predicción: No sexista\n",
            "\n"
          ]
        }
      ]
    },
    {
      "cell_type": "code",
      "source": [
        "import os\n",
        "\n",
        "# Directorio donde se guardan los resultados del entrenamiento\n",
        "output_dir = './results'\n",
        "\n",
        "# Lista de archivos en el directorio\n",
        "files_in_output_dir = os.listdir(output_dir)\n",
        "print(\"Archivos en el directorio de resultados:\", files_in_output_dir)\n"
      ],
      "metadata": {
        "colab": {
          "base_uri": "https://localhost:8080/"
        },
        "id": "pKWssDDTL7r5",
        "outputId": "0cf63b07-23ea-4a4a-b4ad-09842d5bcdae"
      },
      "execution_count": 53,
      "outputs": [
        {
          "output_type": "stream",
          "name": "stdout",
          "text": [
            "Archivos en el directorio de resultados: ['checkpoint-6000', 'checkpoint-6500', 'checkpoint-500', 'checkpoint-7500', 'checkpoint-8000', 'checkpoint-4500', 'checkpoint-7000', 'checkpoint-1500', 'checkpoint-2000', 'checkpoint-3500', 'checkpoint-3000', 'checkpoint-4000', 'checkpoint-5000', 'checkpoint-1000', 'checkpoint-5500', 'checkpoint-2500']\n"
          ]
        }
      ]
    }
  ]
}